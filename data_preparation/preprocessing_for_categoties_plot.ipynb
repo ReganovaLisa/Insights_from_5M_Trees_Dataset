{
 "cells": [
  {
   "cell_type": "code",
   "execution_count": 1,
   "id": "4886b9b1",
   "metadata": {
    "scrolled": true
   },
   "outputs": [],
   "source": [
    "import os\n",
    "import pandas as pd\n",
    "import matplotlib.pyplot as plt"
   ]
  },
  {
   "cell_type": "code",
   "execution_count": 2,
   "id": "f615093d",
   "metadata": {},
   "outputs": [],
   "source": [
    "file_path = '../data_raw/'\n",
    "file_list = os.listdir(file_path)\n",
    "output_path = '../comparing_categories/data/california_top_five_trees.csv'"
   ]
  },
  {
   "cell_type": "code",
   "execution_count": 5,
   "id": "0d135ed9",
   "metadata": {},
   "outputs": [
    {
     "name": "stderr",
     "output_type": "stream",
     "text": [
      "C:\\Users\\User\\AppData\\Local\\Temp\\ipykernel_76472\\1968417506.py:6: FutureWarning: The frame.append method is deprecated and will be removed from pandas in a future version. Use pandas.concat instead.\n",
      "  df_append = df_append.append(df_temp, ignore_index=True)\n",
      "C:\\Users\\User\\AppData\\Local\\Temp\\ipykernel_76472\\1968417506.py:6: FutureWarning: The frame.append method is deprecated and will be removed from pandas in a future version. Use pandas.concat instead.\n",
      "  df_append = df_append.append(df_temp, ignore_index=True)\n",
      "C:\\Users\\User\\AppData\\Local\\Temp\\ipykernel_76472\\1968417506.py:6: FutureWarning: The frame.append method is deprecated and will be removed from pandas in a future version. Use pandas.concat instead.\n",
      "  df_append = df_append.append(df_temp, ignore_index=True)\n",
      "C:\\Users\\User\\AppData\\Local\\Temp\\ipykernel_76472\\1968417506.py:6: FutureWarning: The frame.append method is deprecated and will be removed from pandas in a future version. Use pandas.concat instead.\n",
      "  df_append = df_append.append(df_temp, ignore_index=True)\n",
      "C:\\Users\\User\\AppData\\Local\\Temp\\ipykernel_76472\\1968417506.py:6: FutureWarning: The frame.append method is deprecated and will be removed from pandas in a future version. Use pandas.concat instead.\n",
      "  df_append = df_append.append(df_temp, ignore_index=True)\n",
      "C:\\Users\\User\\AppData\\Local\\Temp\\ipykernel_76472\\1968417506.py:6: FutureWarning: The frame.append method is deprecated and will be removed from pandas in a future version. Use pandas.concat instead.\n",
      "  df_append = df_append.append(df_temp, ignore_index=True)\n",
      "C:\\Users\\User\\AppData\\Local\\Temp\\ipykernel_76472\\1968417506.py:6: FutureWarning: The frame.append method is deprecated and will be removed from pandas in a future version. Use pandas.concat instead.\n",
      "  df_append = df_append.append(df_temp, ignore_index=True)\n",
      "C:\\Users\\User\\AppData\\Local\\Temp\\ipykernel_76472\\1968417506.py:6: FutureWarning: The frame.append method is deprecated and will be removed from pandas in a future version. Use pandas.concat instead.\n",
      "  df_append = df_append.append(df_temp, ignore_index=True)\n",
      "C:\\Users\\User\\AppData\\Local\\Temp\\ipykernel_76472\\1968417506.py:6: FutureWarning: The frame.append method is deprecated and will be removed from pandas in a future version. Use pandas.concat instead.\n",
      "  df_append = df_append.append(df_temp, ignore_index=True)\n",
      "C:\\Users\\User\\AppData\\Local\\Temp\\ipykernel_76472\\1968417506.py:6: FutureWarning: The frame.append method is deprecated and will be removed from pandas in a future version. Use pandas.concat instead.\n",
      "  df_append = df_append.append(df_temp, ignore_index=True)\n",
      "C:\\Users\\User\\AppData\\Local\\Temp\\ipykernel_76472\\1968417506.py:6: FutureWarning: The frame.append method is deprecated and will be removed from pandas in a future version. Use pandas.concat instead.\n",
      "  df_append = df_append.append(df_temp, ignore_index=True)\n",
      "C:\\Users\\User\\AppData\\Local\\Temp\\ipykernel_76472\\1968417506.py:6: FutureWarning: The frame.append method is deprecated and will be removed from pandas in a future version. Use pandas.concat instead.\n",
      "  df_append = df_append.append(df_temp, ignore_index=True)\n",
      "C:\\Users\\User\\AppData\\Local\\Temp\\ipykernel_76472\\1968417506.py:6: FutureWarning: The frame.append method is deprecated and will be removed from pandas in a future version. Use pandas.concat instead.\n",
      "  df_append = df_append.append(df_temp, ignore_index=True)\n",
      "C:\\Users\\User\\AppData\\Local\\Temp\\ipykernel_76472\\1968417506.py:6: FutureWarning: The frame.append method is deprecated and will be removed from pandas in a future version. Use pandas.concat instead.\n",
      "  df_append = df_append.append(df_temp, ignore_index=True)\n",
      "C:\\Users\\User\\AppData\\Local\\Temp\\ipykernel_76472\\1968417506.py:6: FutureWarning: The frame.append method is deprecated and will be removed from pandas in a future version. Use pandas.concat instead.\n",
      "  df_append = df_append.append(df_temp, ignore_index=True)\n",
      "C:\\Users\\User\\AppData\\Local\\Temp\\ipykernel_76472\\1968417506.py:6: FutureWarning: The frame.append method is deprecated and will be removed from pandas in a future version. Use pandas.concat instead.\n",
      "  df_append = df_append.append(df_temp, ignore_index=True)\n",
      "C:\\Users\\User\\AppData\\Local\\Temp\\ipykernel_76472\\1968417506.py:6: FutureWarning: The frame.append method is deprecated and will be removed from pandas in a future version. Use pandas.concat instead.\n",
      "  df_append = df_append.append(df_temp, ignore_index=True)\n",
      "C:\\Users\\User\\AppData\\Local\\Temp\\ipykernel_76472\\1968417506.py:6: FutureWarning: The frame.append method is deprecated and will be removed from pandas in a future version. Use pandas.concat instead.\n",
      "  df_append = df_append.append(df_temp, ignore_index=True)\n",
      "C:\\Users\\User\\AppData\\Local\\Temp\\ipykernel_76472\\1968417506.py:6: FutureWarning: The frame.append method is deprecated and will be removed from pandas in a future version. Use pandas.concat instead.\n",
      "  df_append = df_append.append(df_temp, ignore_index=True)\n",
      "C:\\Users\\User\\AppData\\Local\\Temp\\ipykernel_76472\\1968417506.py:6: FutureWarning: The frame.append method is deprecated and will be removed from pandas in a future version. Use pandas.concat instead.\n",
      "  df_append = df_append.append(df_temp, ignore_index=True)\n",
      "C:\\Users\\User\\AppData\\Local\\Temp\\ipykernel_76472\\1968417506.py:6: FutureWarning: The frame.append method is deprecated and will be removed from pandas in a future version. Use pandas.concat instead.\n",
      "  df_append = df_append.append(df_temp, ignore_index=True)\n",
      "C:\\Users\\User\\AppData\\Local\\Temp\\ipykernel_76472\\1968417506.py:6: FutureWarning: The frame.append method is deprecated and will be removed from pandas in a future version. Use pandas.concat instead.\n",
      "  df_append = df_append.append(df_temp, ignore_index=True)\n",
      "C:\\Users\\User\\AppData\\Local\\Temp\\ipykernel_76472\\1968417506.py:6: FutureWarning: The frame.append method is deprecated and will be removed from pandas in a future version. Use pandas.concat instead.\n",
      "  df_append = df_append.append(df_temp, ignore_index=True)\n",
      "C:\\Users\\User\\AppData\\Local\\Temp\\ipykernel_76472\\1968417506.py:4: DtypeWarning: Columns (0) have mixed types. Specify dtype option on import or set low_memory=False.\n",
      "  df_temp = pd.read_csv(file_path  + file, on_bad_lines='skip')\n",
      "C:\\Users\\User\\AppData\\Local\\Temp\\ipykernel_76472\\1968417506.py:6: FutureWarning: The frame.append method is deprecated and will be removed from pandas in a future version. Use pandas.concat instead.\n",
      "  df_append = df_append.append(df_temp, ignore_index=True)\n",
      "C:\\Users\\User\\AppData\\Local\\Temp\\ipykernel_76472\\1968417506.py:6: FutureWarning: The frame.append method is deprecated and will be removed from pandas in a future version. Use pandas.concat instead.\n",
      "  df_append = df_append.append(df_temp, ignore_index=True)\n",
      "C:\\Users\\User\\AppData\\Local\\Temp\\ipykernel_76472\\1968417506.py:6: FutureWarning: The frame.append method is deprecated and will be removed from pandas in a future version. Use pandas.concat instead.\n",
      "  df_append = df_append.append(df_temp, ignore_index=True)\n",
      "C:\\Users\\User\\AppData\\Local\\Temp\\ipykernel_76472\\1968417506.py:6: FutureWarning: The frame.append method is deprecated and will be removed from pandas in a future version. Use pandas.concat instead.\n",
      "  df_append = df_append.append(df_temp, ignore_index=True)\n",
      "C:\\Users\\User\\AppData\\Local\\Temp\\ipykernel_76472\\1968417506.py:6: FutureWarning: The frame.append method is deprecated and will be removed from pandas in a future version. Use pandas.concat instead.\n",
      "  df_append = df_append.append(df_temp, ignore_index=True)\n",
      "C:\\Users\\User\\AppData\\Local\\Temp\\ipykernel_76472\\1968417506.py:6: FutureWarning: The frame.append method is deprecated and will be removed from pandas in a future version. Use pandas.concat instead.\n",
      "  df_append = df_append.append(df_temp, ignore_index=True)\n",
      "C:\\Users\\User\\AppData\\Local\\Temp\\ipykernel_76472\\1968417506.py:6: FutureWarning: The frame.append method is deprecated and will be removed from pandas in a future version. Use pandas.concat instead.\n",
      "  df_append = df_append.append(df_temp, ignore_index=True)\n",
      "C:\\Users\\User\\AppData\\Local\\Temp\\ipykernel_76472\\1968417506.py:6: FutureWarning: The frame.append method is deprecated and will be removed from pandas in a future version. Use pandas.concat instead.\n",
      "  df_append = df_append.append(df_temp, ignore_index=True)\n",
      "C:\\Users\\User\\AppData\\Local\\Temp\\ipykernel_76472\\1968417506.py:6: FutureWarning: The frame.append method is deprecated and will be removed from pandas in a future version. Use pandas.concat instead.\n",
      "  df_append = df_append.append(df_temp, ignore_index=True)\n",
      "C:\\Users\\User\\AppData\\Local\\Temp\\ipykernel_76472\\1968417506.py:6: FutureWarning: The frame.append method is deprecated and will be removed from pandas in a future version. Use pandas.concat instead.\n",
      "  df_append = df_append.append(df_temp, ignore_index=True)\n",
      "C:\\Users\\User\\AppData\\Local\\Temp\\ipykernel_76472\\1968417506.py:6: FutureWarning: The frame.append method is deprecated and will be removed from pandas in a future version. Use pandas.concat instead.\n",
      "  df_append = df_append.append(df_temp, ignore_index=True)\n",
      "C:\\Users\\User\\AppData\\Local\\Temp\\ipykernel_76472\\1968417506.py:4: DtypeWarning: Columns (0) have mixed types. Specify dtype option on import or set low_memory=False.\n",
      "  df_temp = pd.read_csv(file_path  + file, on_bad_lines='skip')\n",
      "C:\\Users\\User\\AppData\\Local\\Temp\\ipykernel_76472\\1968417506.py:6: FutureWarning: The frame.append method is deprecated and will be removed from pandas in a future version. Use pandas.concat instead.\n",
      "  df_append = df_append.append(df_temp, ignore_index=True)\n",
      "C:\\Users\\User\\AppData\\Local\\Temp\\ipykernel_76472\\1968417506.py:6: FutureWarning: The frame.append method is deprecated and will be removed from pandas in a future version. Use pandas.concat instead.\n",
      "  df_append = df_append.append(df_temp, ignore_index=True)\n",
      "C:\\Users\\User\\AppData\\Local\\Temp\\ipykernel_76472\\1968417506.py:6: FutureWarning: The frame.append method is deprecated and will be removed from pandas in a future version. Use pandas.concat instead.\n",
      "  df_append = df_append.append(df_temp, ignore_index=True)\n",
      "C:\\Users\\User\\AppData\\Local\\Temp\\ipykernel_76472\\1968417506.py:6: FutureWarning: The frame.append method is deprecated and will be removed from pandas in a future version. Use pandas.concat instead.\n",
      "  df_append = df_append.append(df_temp, ignore_index=True)\n",
      "C:\\Users\\User\\AppData\\Local\\Temp\\ipykernel_76472\\1968417506.py:6: FutureWarning: The frame.append method is deprecated and will be removed from pandas in a future version. Use pandas.concat instead.\n",
      "  df_append = df_append.append(df_temp, ignore_index=True)\n",
      "C:\\Users\\User\\AppData\\Local\\Temp\\ipykernel_76472\\1968417506.py:6: FutureWarning: The frame.append method is deprecated and will be removed from pandas in a future version. Use pandas.concat instead.\n",
      "  df_append = df_append.append(df_temp, ignore_index=True)\n",
      "C:\\Users\\User\\AppData\\Local\\Temp\\ipykernel_76472\\1968417506.py:6: FutureWarning: The frame.append method is deprecated and will be removed from pandas in a future version. Use pandas.concat instead.\n",
      "  df_append = df_append.append(df_temp, ignore_index=True)\n",
      "C:\\Users\\User\\AppData\\Local\\Temp\\ipykernel_76472\\1968417506.py:6: FutureWarning: The frame.append method is deprecated and will be removed from pandas in a future version. Use pandas.concat instead.\n",
      "  df_append = df_append.append(df_temp, ignore_index=True)\n",
      "C:\\Users\\User\\AppData\\Local\\Temp\\ipykernel_76472\\1968417506.py:6: FutureWarning: The frame.append method is deprecated and will be removed from pandas in a future version. Use pandas.concat instead.\n",
      "  df_append = df_append.append(df_temp, ignore_index=True)\n",
      "C:\\Users\\User\\AppData\\Local\\Temp\\ipykernel_76472\\1968417506.py:6: FutureWarning: The frame.append method is deprecated and will be removed from pandas in a future version. Use pandas.concat instead.\n",
      "  df_append = df_append.append(df_temp, ignore_index=True)\n",
      "C:\\Users\\User\\AppData\\Local\\Temp\\ipykernel_76472\\1968417506.py:6: FutureWarning: The frame.append method is deprecated and will be removed from pandas in a future version. Use pandas.concat instead.\n",
      "  df_append = df_append.append(df_temp, ignore_index=True)\n",
      "C:\\Users\\User\\AppData\\Local\\Temp\\ipykernel_76472\\1968417506.py:6: FutureWarning: The frame.append method is deprecated and will be removed from pandas in a future version. Use pandas.concat instead.\n",
      "  df_append = df_append.append(df_temp, ignore_index=True)\n",
      "C:\\Users\\User\\AppData\\Local\\Temp\\ipykernel_76472\\1968417506.py:6: FutureWarning: The frame.append method is deprecated and will be removed from pandas in a future version. Use pandas.concat instead.\n",
      "  df_append = df_append.append(df_temp, ignore_index=True)\n",
      "C:\\Users\\User\\AppData\\Local\\Temp\\ipykernel_76472\\1968417506.py:6: FutureWarning: The frame.append method is deprecated and will be removed from pandas in a future version. Use pandas.concat instead.\n",
      "  df_append = df_append.append(df_temp, ignore_index=True)\n",
      "C:\\Users\\User\\AppData\\Local\\Temp\\ipykernel_76472\\1968417506.py:6: FutureWarning: The frame.append method is deprecated and will be removed from pandas in a future version. Use pandas.concat instead.\n",
      "  df_append = df_append.append(df_temp, ignore_index=True)\n",
      "C:\\Users\\User\\AppData\\Local\\Temp\\ipykernel_76472\\1968417506.py:6: FutureWarning: The frame.append method is deprecated and will be removed from pandas in a future version. Use pandas.concat instead.\n",
      "  df_append = df_append.append(df_temp, ignore_index=True)\n",
      "C:\\Users\\User\\AppData\\Local\\Temp\\ipykernel_76472\\1968417506.py:6: FutureWarning: The frame.append method is deprecated and will be removed from pandas in a future version. Use pandas.concat instead.\n",
      "  df_append = df_append.append(df_temp, ignore_index=True)\n",
      "C:\\Users\\User\\AppData\\Local\\Temp\\ipykernel_76472\\1968417506.py:6: FutureWarning: The frame.append method is deprecated and will be removed from pandas in a future version. Use pandas.concat instead.\n",
      "  df_append = df_append.append(df_temp, ignore_index=True)\n",
      "C:\\Users\\User\\AppData\\Local\\Temp\\ipykernel_76472\\1968417506.py:6: FutureWarning: The frame.append method is deprecated and will be removed from pandas in a future version. Use pandas.concat instead.\n",
      "  df_append = df_append.append(df_temp, ignore_index=True)\n",
      "C:\\Users\\User\\AppData\\Local\\Temp\\ipykernel_76472\\1968417506.py:6: FutureWarning: The frame.append method is deprecated and will be removed from pandas in a future version. Use pandas.concat instead.\n",
      "  df_append = df_append.append(df_temp, ignore_index=True)\n",
      "C:\\Users\\User\\AppData\\Local\\Temp\\ipykernel_76472\\1968417506.py:6: FutureWarning: The frame.append method is deprecated and will be removed from pandas in a future version. Use pandas.concat instead.\n",
      "  df_append = df_append.append(df_temp, ignore_index=True)\n",
      "C:\\Users\\User\\AppData\\Local\\Temp\\ipykernel_76472\\1968417506.py:6: FutureWarning: The frame.append method is deprecated and will be removed from pandas in a future version. Use pandas.concat instead.\n",
      "  df_append = df_append.append(df_temp, ignore_index=True)\n",
      "C:\\Users\\User\\AppData\\Local\\Temp\\ipykernel_76472\\1968417506.py:6: FutureWarning: The frame.append method is deprecated and will be removed from pandas in a future version. Use pandas.concat instead.\n",
      "  df_append = df_append.append(df_temp, ignore_index=True)\n",
      "C:\\Users\\User\\AppData\\Local\\Temp\\ipykernel_76472\\1968417506.py:6: FutureWarning: The frame.append method is deprecated and will be removed from pandas in a future version. Use pandas.concat instead.\n",
      "  df_append = df_append.append(df_temp, ignore_index=True)\n",
      "C:\\Users\\User\\AppData\\Local\\Temp\\ipykernel_76472\\1968417506.py:6: FutureWarning: The frame.append method is deprecated and will be removed from pandas in a future version. Use pandas.concat instead.\n",
      "  df_append = df_append.append(df_temp, ignore_index=True)\n",
      "C:\\Users\\User\\AppData\\Local\\Temp\\ipykernel_76472\\1968417506.py:6: FutureWarning: The frame.append method is deprecated and will be removed from pandas in a future version. Use pandas.concat instead.\n",
      "  df_append = df_append.append(df_temp, ignore_index=True)\n",
      "C:\\Users\\User\\AppData\\Local\\Temp\\ipykernel_76472\\1968417506.py:6: FutureWarning: The frame.append method is deprecated and will be removed from pandas in a future version. Use pandas.concat instead.\n",
      "  df_append = df_append.append(df_temp, ignore_index=True)\n",
      "C:\\Users\\User\\AppData\\Local\\Temp\\ipykernel_76472\\1968417506.py:6: FutureWarning: The frame.append method is deprecated and will be removed from pandas in a future version. Use pandas.concat instead.\n",
      "  df_append = df_append.append(df_temp, ignore_index=True)\n",
      "C:\\Users\\User\\AppData\\Local\\Temp\\ipykernel_76472\\1968417506.py:6: FutureWarning: The frame.append method is deprecated and will be removed from pandas in a future version. Use pandas.concat instead.\n",
      "  df_append = df_append.append(df_temp, ignore_index=True)\n"
     ]
    }
   ],
   "source": [
    "df_append = pd.DataFrame()\n",
    "#append all files together\n",
    "for file in file_list:\n",
    "            df_temp = pd.read_csv(file_path  + file, on_bad_lines='skip')\n",
    "            df_temp['file_name'] = file.split('_')[0]\n",
    "            df_append = df_append.append(df_temp, ignore_index=True)"
   ]
  },
  {
   "cell_type": "code",
   "execution_count": 6,
   "id": "e7d94775",
   "metadata": {},
   "outputs": [
    {
     "name": "stdout",
     "output_type": "stream",
     "text": [
      "New Mexico\n",
      "['Albuquerque']\n",
      "\n",
      "nan\n",
      "[]\n",
      "\n",
      "California\n",
      "['Anaheim', 'Fresno', 'GardenGrove', 'HuntingtonBeach', 'Irvine', 'Oakland', 'Ontario', 'RanchoCucamonga', 'Sacramento', 'SanDiego', 'SanFrancisco', 'SanJose', 'SantaRosa', 'Stockton']\n",
      "\n",
      "Texas\n",
      "['Arlington', 'Austin', 'Dallas', 'Houston', 'Plano']\n",
      "\n",
      "Georgia\n",
      "['Atlanta']\n",
      "\n",
      "Colorado\n",
      "['AuroraCO', 'ColoradoSprings', 'Denver']\n",
      "\n",
      "Maryland\n",
      "['Baltimore']\n",
      "\n",
      "Massachusetts\n",
      "['Boston', 'Worcester']\n",
      "\n",
      "New York\n",
      "['Buffalo', 'Rochester']\n",
      "\n",
      "Florida\n",
      "['CapeCoral', 'Miami', 'Orlando', 'Tampa']\n",
      "\n",
      "Ohio\n",
      "['Columbus']\n",
      "\n",
      "Iowa\n",
      "['DesMoines']\n",
      "\n",
      "Michigan\n",
      "['Detroit', 'GrandRapids']\n",
      "\n",
      "North Carolina\n",
      "['Durham', 'Greensboro']\n",
      "\n",
      "Hawaii\n",
      "['Honolulu']\n",
      "\n",
      "Indiana\n",
      "['Indianapolis']\n",
      "\n",
      "New Jersey\n",
      "['Jerseycity']\n",
      "\n",
      "Tennessee\n",
      "['Knoxville', 'Nashville']\n",
      "\n",
      "Nevada\n",
      "['LasVegas']\n",
      "\n",
      "Kentucky\n",
      "['Louisville']\n",
      "\n",
      "Wisconsin\n",
      "['Madison', 'Milwaukee']\n",
      "\n",
      "Minnesota\n",
      "['Minneapolis']\n",
      "\n",
      "Louisiana\n",
      "['NewOrleans']\n",
      "\n",
      "Oklahoma\n",
      "['OklahomaCity']\n",
      "\n",
      "Kansas\n",
      "['OverlandPark']\n",
      "\n",
      "Arizona\n",
      "['Phoenix']\n",
      "\n",
      "Pennsylvania\n",
      "['Pittsburgh']\n",
      "\n",
      "Oregon\n",
      "['Portland']\n",
      "\n",
      "Rhode Island\n",
      "['Providence']\n",
      "\n",
      "Virginia\n",
      "['Richmond']\n",
      "\n",
      "Washington\n",
      "['Seattle']\n",
      "\n",
      "South Dakota\n",
      "['SiouxFalls']\n",
      "\n",
      "Missouri\n",
      "['StLouis']\n",
      "\n",
      "District of Columbia\n",
      "['WashingtonDC']\n",
      "\n"
     ]
    }
   ],
   "source": [
    "states = list(df_append['state'].unique())\n",
    "for state in states:\n",
    "    print(state)\n",
    "    cities = list(df_append[df_append['state'] == state]['file_name'].unique())\n",
    "    print(cities)\n",
    "    print()"
   ]
  },
  {
   "cell_type": "code",
   "execution_count": 7,
   "id": "da236746",
   "metadata": {},
   "outputs": [],
   "source": [
    "state_cities = ['Anaheim', 'Fresno', 'GardenGrove', 'HuntingtonBeach', 'Irvine', 'LosAngeles', 'Oakland', 'Ontario', 'RanchoCucamonga', 'Sacramento', 'SanDiego', 'SanFrancisco', 'SanJose', 'SantaRosa', 'Stockton']"
   ]
  },
  {
   "cell_type": "code",
   "execution_count": 8,
   "id": "0f1983ed",
   "metadata": {},
   "outputs": [
    {
     "name": "stdout",
     "output_type": "stream",
     "text": [
      "Anaheim\n",
      "79651\n",
      "Fresno\n",
      "6980\n",
      "GardenGrove\n",
      "17522\n",
      "HuntingtonBeach\n",
      "55828\n",
      "Irvine\n",
      "58364\n",
      "LosAngeles\n",
      "0\n",
      "Oakland\n",
      "38613\n",
      "Ontario\n",
      "58577\n",
      "RanchoCucamonga\n",
      "82947\n",
      "Sacramento\n",
      "87191\n",
      "SanDiego\n",
      "212304\n",
      "SanFrancisco\n",
      "188462\n",
      "SanJose\n",
      "347669\n",
      "SantaRosa\n",
      "3016\n",
      "Stockton\n",
      "98300\n"
     ]
    }
   ],
   "source": [
    "number = []\n",
    "for city in state_cities:\n",
    "    print(city)\n",
    "    print(len(df_append[df_append['file_name'] == city]))\n",
    "    number.append(len(df_append[df_append['file_name'] == city]))"
   ]
  },
  {
   "cell_type": "code",
   "execution_count": 9,
   "id": "e62fe2b6",
   "metadata": {},
   "outputs": [
    {
     "data": {
      "image/png": "[encoded data removed]",
      "text/plain": [
       "<Figure size 432x288 with 1 Axes>"
      ]
     },
     "metadata": {
      "needs_background": "light"
     },
     "output_type": "display_data"
    }
   ],
   "source": [
    "plt.bar(state_cities, height = number)\n",
    "plt.xticks(rotation='vertical')\n",
    "plt.show()"
   ]
  },
  {
   "cell_type": "code",
   "execution_count": 10,
   "id": "cb026740",
   "metadata": {},
   "outputs": [],
   "source": [
    "chosen_cities = ['Anaheim','RanchoCucamonga','Sacramento','Irvine','Ontario']"
   ]
  },
  {
   "cell_type": "code",
   "execution_count": 11,
   "id": "6c4c0f7e",
   "metadata": {},
   "outputs": [],
   "source": [
    "df = df_append[df_append['file_name'].isin(chosen_cities)]"
   ]
  },
  {
   "cell_type": "code",
   "execution_count": 12,
   "id": "2b381eea",
   "metadata": {},
   "outputs": [],
   "source": [
    "list_spec = []\n",
    "list_num = []\n",
    "for i, city in enumerate(chosen_cities):\n",
    "    list_spec.append(list(df_append[df_append['file_name']== city].groupby(\"common_name\").count().sort_values(by='scientific_name', ascending=False)['scientific_name'].head(20).index))\n",
    "    list_num.append(list(df_append[df_append['file_name']== city].groupby(\"common_name\").count().sort_values(by='scientific_name', ascending=False)['scientific_name'].head(20)/len(df_append[df_append['file_name']== city])))"
   ]
  },
  {
   "cell_type": "code",
   "execution_count": 13,
   "id": "20e10e17",
   "metadata": {},
   "outputs": [],
   "source": [
    "dict_trees = {}\n",
    "for i in range(len(list_spec)):\n",
    "    for j in range(20):\n",
    "        if list_spec[i][j] in dict_trees:\n",
    "            dict_trees[list_spec[i][j]] += list_num[i][j]\n",
    "        else:\n",
    "            dict_trees[list_spec[i][j]] = list_num[i][j]\n",
    "            "
   ]
  },
  {
   "cell_type": "code",
   "execution_count": 14,
   "id": "b2101147",
   "metadata": {},
   "outputs": [],
   "source": [
    "d = sorted(dict_trees.items(), key=lambda x:x[1])"
   ]
  },
  {
   "cell_type": "code",
   "execution_count": 15,
   "id": "6637b433",
   "metadata": {},
   "outputs": [
    {
     "data": {
      "text/plain": [
       "[('Crape myrtle', 0.2755930761570826),\n",
       " ('London planetree', 0.18231504848710645),\n",
       " ('Canary island pine', 0.16398377158230648),\n",
       " ('Chinese pistache', 0.12833825333035492),\n",
       " ('Camphor tree', 0.12164654935211153)]"
      ]
     },
     "execution_count": 15,
     "metadata": {},
     "output_type": "execute_result"
    }
   ],
   "source": [
    "d[::-1][:5]"
   ]
  },
  {
   "cell_type": "code",
   "execution_count": 16,
   "id": "0b48d21e",
   "metadata": {},
   "outputs": [],
   "source": [
    "chosen_trees = ['Crape myrtle','London planetree','Canary island pine','Chinese pistache','Camphor tree']"
   ]
  },
  {
   "cell_type": "code",
   "execution_count": 17,
   "id": "421c7b3d",
   "metadata": {},
   "outputs": [],
   "source": [
    "data_for_vis_cit_comp = [[],[],[],[],[]]\n",
    "for i in range(5):\n",
    "    data_for_vis_cit_comp[i].append(chosen_cities[i])\n",
    "    data_for_loop = df[df['file_name'] == chosen_cities[i]]\n",
    "    total_trees = len(data_for_loop)\n",
    "    for tree in chosen_trees:\n",
    "        data_for_vis_cit_comp[i].append(len(data_for_loop[data_for_loop['common_name'] == tree]))\n",
    "    data_for_vis_cit_comp[i].append(total_trees - sum(data_for_vis_cit_comp[i][1:]))\n"
   ]
  },
  {
   "cell_type": "code",
   "execution_count": 18,
   "id": "11312a1c",
   "metadata": {},
   "outputs": [],
   "source": [
    "df_vis = pd.DataFrame(data_for_vis_cit_comp, columns = ['City'] + chosen_trees + ['Other'])"
   ]
  },
  {
   "cell_type": "code",
   "execution_count": 19,
   "id": "c17a2ff0",
   "metadata": {},
   "outputs": [
    {
     "data": {
      "text/html": [
       "<div>\n",
       "<style scoped>\n",
       "    .dataframe tbody tr th:only-of-type {\n",
       "        vertical-align: middle;\n",
       "    }\n",
       "\n",
       "    .dataframe tbody tr th {\n",
       "        vertical-align: top;\n",
       "    }\n",
       "\n",
       "    .dataframe thead th {\n",
       "        text-align: right;\n",
       "    }\n",
       "</style>\n",
       "<table border=\"1\" class=\"dataframe\">\n",
       "  <thead>\n",
       "    <tr style=\"text-align: right;\">\n",
       "      <th></th>\n",
       "      <th>Crape myrtle</th>\n",
       "      <th>London planetree</th>\n",
       "      <th>Canary island pine</th>\n",
       "      <th>Chinese pistache</th>\n",
       "      <th>Camphor tree</th>\n",
       "      <th>Other</th>\n",
       "    </tr>\n",
       "    <tr>\n",
       "      <th>City</th>\n",
       "      <th></th>\n",
       "      <th></th>\n",
       "      <th></th>\n",
       "      <th></th>\n",
       "      <th></th>\n",
       "      <th></th>\n",
       "    </tr>\n",
       "  </thead>\n",
       "  <tbody>\n",
       "    <tr>\n",
       "      <th>Anaheim</th>\n",
       "      <td>3320</td>\n",
       "      <td>0</td>\n",
       "      <td>2317</td>\n",
       "      <td>1123</td>\n",
       "      <td>2567</td>\n",
       "      <td>70324</td>\n",
       "    </tr>\n",
       "    <tr>\n",
       "      <th>RanchoCucamonga</th>\n",
       "      <td>12877</td>\n",
       "      <td>0</td>\n",
       "      <td>0</td>\n",
       "      <td>3217</td>\n",
       "      <td>0</td>\n",
       "      <td>66853</td>\n",
       "    </tr>\n",
       "    <tr>\n",
       "      <th>Sacramento</th>\n",
       "      <td>0</td>\n",
       "      <td>14111</td>\n",
       "      <td>0</td>\n",
       "      <td>4580</td>\n",
       "      <td>773</td>\n",
       "      <td>67727</td>\n",
       "    </tr>\n",
       "    <tr>\n",
       "      <th>Irvine</th>\n",
       "      <td>0</td>\n",
       "      <td>1195</td>\n",
       "      <td>4578</td>\n",
       "      <td>0</td>\n",
       "      <td>1333</td>\n",
       "      <td>51258</td>\n",
       "    </tr>\n",
       "    <tr>\n",
       "      <th>Ontario</th>\n",
       "      <td>4630</td>\n",
       "      <td>0</td>\n",
       "      <td>3307</td>\n",
       "      <td>1343</td>\n",
       "      <td>3900</td>\n",
       "      <td>45397</td>\n",
       "    </tr>\n",
       "  </tbody>\n",
       "</table>\n",
       "</div>"
      ],
      "text/plain": [
       "                 Crape myrtle  London planetree  Canary island pine  \\\n",
       "City                                                                  \n",
       "Anaheim                  3320                 0                2317   \n",
       "RanchoCucamonga         12877                 0                   0   \n",
       "Sacramento                  0             14111                   0   \n",
       "Irvine                      0              1195                4578   \n",
       "Ontario                  4630                 0                3307   \n",
       "\n",
       "                 Chinese pistache  Camphor tree  Other  \n",
       "City                                                    \n",
       "Anaheim                      1123          2567  70324  \n",
       "RanchoCucamonga              3217             0  66853  \n",
       "Sacramento                   4580           773  67727  \n",
       "Irvine                          0          1333  51258  \n",
       "Ontario                      1343          3900  45397  "
      ]
     },
     "execution_count": 19,
     "metadata": {},
     "output_type": "execute_result"
    }
   ],
   "source": [
    "df_vis.set_index('City')"
   ]
  },
  {
   "cell_type": "code",
   "execution_count": 20,
   "id": "bf23ad82",
   "metadata": {},
   "outputs": [],
   "source": [
    "df_vis.set_index('City').to_csv(output_path)"
   ]
  },
  {
   "cell_type": "code",
   "execution_count": null,
   "id": "9d6f5aa8",
   "metadata": {},
   "outputs": [],
   "source": []
  }
 ],
 "metadata": {
  "kernelspec": {
   "display_name": "Python 3 (ipykernel)",
   "language": "python",
   "name": "python3"
  },
  "language_info": {
   "codemirror_mode": {
    "name": "ipython",
    "version": 3
   },
   "file_extension": ".py",
   "mimetype": "text/x-python",
   "name": "python",
   "nbconvert_exporter": "python",
   "pygments_lexer": "ipython3",
   "version": "3.9.12"
  }
 },
 "nbformat": 4,
 "nbformat_minor": 5
}
