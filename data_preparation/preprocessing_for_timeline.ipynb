{
 "cells": [
  {
   "cell_type": "code",
   "execution_count": 2,
   "metadata": {},
   "outputs": [],
   "source": [
    "import pandas as pd\n",
    "import numpy as np"
   ]
  },
  {
   "cell_type": "code",
   "execution_count": 14,
   "metadata": {},
   "outputs": [],
   "source": [
    "avg_t = pd.read_csv('us_avg_t.csv')\n",
    "min_t = pd.read_csv('us_min_t.csv')\n",
    "max_t = pd.read_csv('us_max_t.csv')\n",
    "state_code = pd.read_csv('state_code.csv')"
   ]
  },
  {
   "cell_type": "code",
   "execution_count": 15,
   "metadata": {},
   "outputs": [],
   "source": [
    "codes = list(max_t['Code'])"
   ]
  },
  {
   "cell_type": "code",
   "execution_count": 16,
   "metadata": {},
   "outputs": [],
   "source": [
    "years = []\n",
    "states = []\n",
    "for i in range(len(codes)):\n",
    "    years.append(int(str(codes[i])[-4:]))\n",
    "    states.append(int(str(codes[i])[:-7]))\n"
   ]
  },
  {
   "cell_type": "code",
   "execution_count": 17,
   "metadata": {},
   "outputs": [],
   "source": [
    "state_codes = list(state_code['Code'])\n",
    "states_names =  list(state_code['State'])\n",
    "for dataset in [avg_t, min_t, max_t]:\n",
    "    codes = list(dataset['Code'])\n",
    "    years = []\n",
    "    states = []\n",
    "    \n",
    "    for i in range(len(codes)):\n",
    "        years.append(int(str(codes[i])[-4:]))\n",
    "        code = int(str(codes[i])[:-7])\n",
    "        if code <111:\n",
    "            position = state_codes.index(code)\n",
    "            states.append(states_names[position])\n",
    "        else:\n",
    "            states.append('not_state')\n",
    "    dataset[\"year\"]= years\n",
    "    dataset['state'] = states\n",
    "    \n",
    "        "
   ]
  },
  {
   "cell_type": "code",
   "execution_count": 18,
   "metadata": {},
   "outputs": [],
   "source": [
    "max_t = max_t[max_t['state']!= 'not_state']\n",
    "min_t = min_t[min_t['state']!= 'not_state']\n",
    "avg_t = avg_t[avg_t['state']!= 'not_state']"
   ]
  },
  {
   "cell_type": "code",
   "execution_count": 19,
   "metadata": {},
   "outputs": [],
   "source": [
    "chosen_years = list(np.arange(2022, 1976, -5))"
   ]
  },
  {
   "cell_type": "code",
   "execution_count": 20,
   "metadata": {},
   "outputs": [],
   "source": [
    "max_t = max_t[max_t['year'].isin(chosen_years)]\n",
    "min_t = min_t[min_t['year'].isin(chosen_years)]\n",
    "avg_t = avg_t[avg_t['year'].isin(chosen_years)]"
   ]
  },
  {
   "cell_type": "code",
   "execution_count": 21,
   "metadata": {},
   "outputs": [],
   "source": [
    "avg_t.drop('Code', inplace = True, axis = 1) \n",
    "min_t.drop('Code', inplace = True, axis = 1) \n",
    "max_t.drop('Code', inplace = True, axis = 1) "
   ]
  },
  {
   "cell_type": "code",
   "execution_count": 22,
   "metadata": {},
   "outputs": [],
   "source": [
    "avg_t[avg_t.columns[:-2]] = ((avg_t[avg_t.columns[:-2]] -32)*5/9).round(1)\n",
    "max_t[max_t.columns[:-2]] = ((max_t[max_t.columns[:-2]] -32)*5/9).round(1)\n",
    "min_t[avg_t.columns[:-2]] = ((min_t[min_t.columns[:-2]] -32)*5/9).round(1)"
   ]
  },
  {
   "cell_type": "code",
   "execution_count": 108,
   "metadata": {},
   "outputs": [],
   "source": [
    "avg_t.to_csv('../timelines/data/average_temperature.csv', index=False)\n",
    "min_t.to_csv('../timelines/data/minimal_temperature.csv', index=False)\n",
    "max_t.to_csv('../timelines/data/maximal_temperature.csv', index=False)"
   ]
  },
  {
   "cell_type": "code",
   "execution_count": 30,
   "metadata": {},
   "outputs": [],
   "source": [
    "avg_t.columns = ['January_average', 'February_average', 'March_average', 'April_average', 'May_average', 'June_average', 'July_average',\n",
    "       'August_average', 'September_average', 'October_average', 'November_average', 'December_average', 'year',\n",
    "       'state']\n",
    "\n",
    "min_t.columns = ['January_minimal', 'February_minimal', 'March_minimal', 'April_minimal', 'May_minimal', 'June_minimal', 'July_minimal',\n",
    "       'August_minimal', 'September_minimal', 'October_minimal', 'November_minimal', 'December_minimal', 'year',\n",
    "       'state']\n",
    "\n",
    "max_t.columns = ['January_maximal', 'February_maximal', 'March_maximal', 'April_maximal', 'May_maximal', 'June_maximal', 'July_maximal',\n",
    "       'August_maximal', 'September_maximal', 'October_maximal', 'November_maximal', 'December_maximal', 'year',\n",
    "       'state']"
   ]
  },
  {
   "cell_type": "code",
   "execution_count": 31,
   "metadata": {},
   "outputs": [],
   "source": [
    "df_all_in_one = pd.merge(avg_t, min_t, on = ['year','state'])\n",
    "df_all_in_one = pd.merge(df_all_in_one, max_t, on = ['year','state'])"
   ]
  },
  {
   "cell_type": "code",
   "execution_count": 37,
   "metadata": {},
   "outputs": [],
   "source": [
    "df_all_in_one = df_all_in_one[['year', 'state','January_average', 'February_average', 'March_average', 'April_average',\n",
    "       'May_average', 'June_average', 'July_average', 'August_average',\n",
    "       'September_average', 'October_average', 'November_average',\n",
    "       'December_average', 'January_minimal',\n",
    "       'February_minimal', 'March_minimal', 'April_minimal', 'May_minimal',\n",
    "       'June_minimal', 'July_minimal', 'August_minimal', 'September_minimal',\n",
    "       'October_minimal', 'November_minimal', 'December_minimal',\n",
    "       'January_maximal', 'February_maximal', 'March_maximal', 'April_maximal',\n",
    "       'May_maximal', 'June_maximal', 'July_maximal', 'August_maximal',\n",
    "       'September_maximal', 'October_maximal', 'November_maximal',\n",
    "       'December_maximal']]"
   ]
  },
  {
   "cell_type": "code",
   "execution_count": 39,
   "metadata": {},
   "outputs": [],
   "source": [
    "df_all_in_one.to_csv('../timelines/data/all_in_one_temperatire.csv', index=False)"
   ]
  },
  {
   "cell_type": "code",
   "execution_count": null,
   "metadata": {},
   "outputs": [],
   "source": []
  }
 ],
 "metadata": {
  "kernelspec": {
   "display_name": "base",
   "language": "python",
   "name": "python3"
  },
  "language_info": {
   "codemirror_mode": {
    "name": "ipython",
    "version": 3
   },
   "file_extension": ".py",
   "mimetype": "text/x-python",
   "name": "python",
   "nbconvert_exporter": "python",
   "pygments_lexer": "ipython3",
   "version": "3.9.12"
  }
 },
 "nbformat": 4,
 "nbformat_minor": 2
}
